{
  "nbformat": 4,
  "nbformat_minor": 0,
  "metadata": {
    "colab": {
      "provenance": [],
      "authorship_tag": "ABX9TyO/EXDlNKlVtPgykdf5qh5c",
      "include_colab_link": true
    },
    "kernelspec": {
      "name": "python3",
      "display_name": "Python 3"
    },
    "language_info": {
      "name": "python"
    }
  },
  "cells": [
    {
      "cell_type": "markdown",
      "metadata": {
        "id": "view-in-github",
        "colab_type": "text"
      },
      "source": [
        "<a href=\"https://colab.research.google.com/github/chqzeng/WaterSatOnCloud/blob/main/Tool4%20-%20Rayleigh%20Atmospheric%20Correction/Tool4_Rayleigh_correction_2_application.ipynb\" target=\"_parent\"><img src=\"https://colab.research.google.com/assets/colab-badge.svg\" alt=\"Open In Colab\"/></a>"
      ]
    },
    {
      "cell_type": "markdown",
      "source": [
        "# Py6S for Rayleigh Correction of level-1 LST8 data\n",
        "\n",
        "Here we generate a lookup table to do a simple Rayleigh atmospheric correction for pixel values extracted in Tool 2.\n",
        "\n",
        "Atmospheric reflectance is calculated in the absence of aerosol, and is removed from TOA reflectance according to the solar/observation geometry.\n",
        "\n",
        "## Step 2 - Applying the Lookup Table to TOA Reflectance"
      ],
      "metadata": {
        "id": "SvvU3iBnqnk-"
      }
    },
    {
      "cell_type": "code",
      "source": [
        "# Load libaries\n",
        "import pandas as pd\n",
        "import numpy as np\n",
        "from scipy.interpolate import RegularGridInterpolator\n",
        "pd.options.mode.chained_assignment = None  # default='warn'"
      ],
      "metadata": {
        "id": "MjWHHAFJvzTm"
      },
      "execution_count": 1,
      "outputs": []
    },
    {
      "cell_type": "markdown",
      "source": [
        "# Load Lookup Table"
      ],
      "metadata": {
        "id": "QieQkuexdhQW"
      }
    },
    {
      "cell_type": "code",
      "source": [
        "# Load the LUT from the GitHub folder\n",
        "url = 'https://github.com/chqzeng/WaterSatOnCloud/blob/main/Tool4%20-%20Rayleigh%20Atmospheric%20Correction/LUT.csv?raw=true'\n",
        "LUT = pd.read_csv(url)\n",
        "LUT"
      ],
      "metadata": {
        "colab": {
          "base_uri": "https://localhost:8080/",
          "height": 419
        },
        "id": "LABnaiVTtZRg",
        "outputId": "4937464a-c5f9-407c-a5bd-82891d05f30d"
      },
      "execution_count": 2,
      "outputs": [
        {
          "output_type": "execute_result",
          "data": {
            "text/plain": [
              "      Band  SZA  VZA  RAA  R_atm\n",
              "0       B1    0    0    0  0.091\n",
              "1       B1    0    0   10  0.091\n",
              "2       B1    0    0   20  0.091\n",
              "3       B1    0    0   30  0.091\n",
              "4       B1    0    0   40  0.091\n",
              "...    ...  ...  ...  ...    ...\n",
              "13846   B9   80   80  140  0.023\n",
              "13847   B9   80   80  150  0.025\n",
              "13848   B9   80   80  160  0.026\n",
              "13849   B9   80   80  170  0.028\n",
              "13850   B9   80   80  180  0.028\n",
              "\n",
              "[13851 rows x 5 columns]"
            ],
            "text/html": [
              "\n",
              "\n",
              "  <div id=\"df-cfc0f810-9833-46e6-a4d0-034df2e6c679\">\n",
              "    <div class=\"colab-df-container\">\n",
              "      <div>\n",
              "<style scoped>\n",
              "    .dataframe tbody tr th:only-of-type {\n",
              "        vertical-align: middle;\n",
              "    }\n",
              "\n",
              "    .dataframe tbody tr th {\n",
              "        vertical-align: top;\n",
              "    }\n",
              "\n",
              "    .dataframe thead th {\n",
              "        text-align: right;\n",
              "    }\n",
              "</style>\n",
              "<table border=\"1\" class=\"dataframe\">\n",
              "  <thead>\n",
              "    <tr style=\"text-align: right;\">\n",
              "      <th></th>\n",
              "      <th>Band</th>\n",
              "      <th>SZA</th>\n",
              "      <th>VZA</th>\n",
              "      <th>RAA</th>\n",
              "      <th>R_atm</th>\n",
              "    </tr>\n",
              "  </thead>\n",
              "  <tbody>\n",
              "    <tr>\n",
              "      <th>0</th>\n",
              "      <td>B1</td>\n",
              "      <td>0</td>\n",
              "      <td>0</td>\n",
              "      <td>0</td>\n",
              "      <td>0.091</td>\n",
              "    </tr>\n",
              "    <tr>\n",
              "      <th>1</th>\n",
              "      <td>B1</td>\n",
              "      <td>0</td>\n",
              "      <td>0</td>\n",
              "      <td>10</td>\n",
              "      <td>0.091</td>\n",
              "    </tr>\n",
              "    <tr>\n",
              "      <th>2</th>\n",
              "      <td>B1</td>\n",
              "      <td>0</td>\n",
              "      <td>0</td>\n",
              "      <td>20</td>\n",
              "      <td>0.091</td>\n",
              "    </tr>\n",
              "    <tr>\n",
              "      <th>3</th>\n",
              "      <td>B1</td>\n",
              "      <td>0</td>\n",
              "      <td>0</td>\n",
              "      <td>30</td>\n",
              "      <td>0.091</td>\n",
              "    </tr>\n",
              "    <tr>\n",
              "      <th>4</th>\n",
              "      <td>B1</td>\n",
              "      <td>0</td>\n",
              "      <td>0</td>\n",
              "      <td>40</td>\n",
              "      <td>0.091</td>\n",
              "    </tr>\n",
              "    <tr>\n",
              "      <th>...</th>\n",
              "      <td>...</td>\n",
              "      <td>...</td>\n",
              "      <td>...</td>\n",
              "      <td>...</td>\n",
              "      <td>...</td>\n",
              "    </tr>\n",
              "    <tr>\n",
              "      <th>13846</th>\n",
              "      <td>B9</td>\n",
              "      <td>80</td>\n",
              "      <td>80</td>\n",
              "      <td>140</td>\n",
              "      <td>0.023</td>\n",
              "    </tr>\n",
              "    <tr>\n",
              "      <th>13847</th>\n",
              "      <td>B9</td>\n",
              "      <td>80</td>\n",
              "      <td>80</td>\n",
              "      <td>150</td>\n",
              "      <td>0.025</td>\n",
              "    </tr>\n",
              "    <tr>\n",
              "      <th>13848</th>\n",
              "      <td>B9</td>\n",
              "      <td>80</td>\n",
              "      <td>80</td>\n",
              "      <td>160</td>\n",
              "      <td>0.026</td>\n",
              "    </tr>\n",
              "    <tr>\n",
              "      <th>13849</th>\n",
              "      <td>B9</td>\n",
              "      <td>80</td>\n",
              "      <td>80</td>\n",
              "      <td>170</td>\n",
              "      <td>0.028</td>\n",
              "    </tr>\n",
              "    <tr>\n",
              "      <th>13850</th>\n",
              "      <td>B9</td>\n",
              "      <td>80</td>\n",
              "      <td>80</td>\n",
              "      <td>180</td>\n",
              "      <td>0.028</td>\n",
              "    </tr>\n",
              "  </tbody>\n",
              "</table>\n",
              "<p>13851 rows × 5 columns</p>\n",
              "</div>\n",
              "      <button class=\"colab-df-convert\" onclick=\"convertToInteractive('df-cfc0f810-9833-46e6-a4d0-034df2e6c679')\"\n",
              "              title=\"Convert this dataframe to an interactive table.\"\n",
              "              style=\"display:none;\">\n",
              "\n",
              "  <svg xmlns=\"http://www.w3.org/2000/svg\" height=\"24px\"viewBox=\"0 0 24 24\"\n",
              "       width=\"24px\">\n",
              "    <path d=\"M0 0h24v24H0V0z\" fill=\"none\"/>\n",
              "    <path d=\"M18.56 5.44l.94 2.06.94-2.06 2.06-.94-2.06-.94-.94-2.06-.94 2.06-2.06.94zm-11 1L8.5 8.5l.94-2.06 2.06-.94-2.06-.94L8.5 2.5l-.94 2.06-2.06.94zm10 10l.94 2.06.94-2.06 2.06-.94-2.06-.94-.94-2.06-.94 2.06-2.06.94z\"/><path d=\"M17.41 7.96l-1.37-1.37c-.4-.4-.92-.59-1.43-.59-.52 0-1.04.2-1.43.59L10.3 9.45l-7.72 7.72c-.78.78-.78 2.05 0 2.83L4 21.41c.39.39.9.59 1.41.59.51 0 1.02-.2 1.41-.59l7.78-7.78 2.81-2.81c.8-.78.8-2.07 0-2.86zM5.41 20L4 18.59l7.72-7.72 1.47 1.35L5.41 20z\"/>\n",
              "  </svg>\n",
              "      </button>\n",
              "\n",
              "\n",
              "\n",
              "    <div id=\"df-072d1910-c436-4b50-8a13-d314d29734c0\">\n",
              "      <button class=\"colab-df-quickchart\" onclick=\"quickchart('df-072d1910-c436-4b50-8a13-d314d29734c0')\"\n",
              "              title=\"Suggest charts.\"\n",
              "              style=\"display:none;\">\n",
              "\n",
              "<svg xmlns=\"http://www.w3.org/2000/svg\" height=\"24px\"viewBox=\"0 0 24 24\"\n",
              "     width=\"24px\">\n",
              "    <g>\n",
              "        <path d=\"M19 3H5c-1.1 0-2 .9-2 2v14c0 1.1.9 2 2 2h14c1.1 0 2-.9 2-2V5c0-1.1-.9-2-2-2zM9 17H7v-7h2v7zm4 0h-2V7h2v10zm4 0h-2v-4h2v4z\"/>\n",
              "    </g>\n",
              "</svg>\n",
              "      </button>\n",
              "    </div>\n",
              "\n",
              "<style>\n",
              "  .colab-df-quickchart {\n",
              "    background-color: #E8F0FE;\n",
              "    border: none;\n",
              "    border-radius: 50%;\n",
              "    cursor: pointer;\n",
              "    display: none;\n",
              "    fill: #1967D2;\n",
              "    height: 32px;\n",
              "    padding: 0 0 0 0;\n",
              "    width: 32px;\n",
              "  }\n",
              "\n",
              "  .colab-df-quickchart:hover {\n",
              "    background-color: #E2EBFA;\n",
              "    box-shadow: 0px 1px 2px rgba(60, 64, 67, 0.3), 0px 1px 3px 1px rgba(60, 64, 67, 0.15);\n",
              "    fill: #174EA6;\n",
              "  }\n",
              "\n",
              "  [theme=dark] .colab-df-quickchart {\n",
              "    background-color: #3B4455;\n",
              "    fill: #D2E3FC;\n",
              "  }\n",
              "\n",
              "  [theme=dark] .colab-df-quickchart:hover {\n",
              "    background-color: #434B5C;\n",
              "    box-shadow: 0px 1px 3px 1px rgba(0, 0, 0, 0.15);\n",
              "    filter: drop-shadow(0px 1px 2px rgba(0, 0, 0, 0.3));\n",
              "    fill: #FFFFFF;\n",
              "  }\n",
              "</style>\n",
              "\n",
              "    <script>\n",
              "      async function quickchart(key) {\n",
              "        const containerElement = document.querySelector('#' + key);\n",
              "        const charts = await google.colab.kernel.invokeFunction(\n",
              "            'suggestCharts', [key], {});\n",
              "      }\n",
              "    </script>\n",
              "\n",
              "      <script>\n",
              "\n",
              "function displayQuickchartButton(domScope) {\n",
              "  let quickchartButtonEl =\n",
              "    domScope.querySelector('#df-072d1910-c436-4b50-8a13-d314d29734c0 button.colab-df-quickchart');\n",
              "  quickchartButtonEl.style.display =\n",
              "    google.colab.kernel.accessAllowed ? 'block' : 'none';\n",
              "}\n",
              "\n",
              "        displayQuickchartButton(document);\n",
              "      </script>\n",
              "      <style>\n",
              "    .colab-df-container {\n",
              "      display:flex;\n",
              "      flex-wrap:wrap;\n",
              "      gap: 12px;\n",
              "    }\n",
              "\n",
              "    .colab-df-convert {\n",
              "      background-color: #E8F0FE;\n",
              "      border: none;\n",
              "      border-radius: 50%;\n",
              "      cursor: pointer;\n",
              "      display: none;\n",
              "      fill: #1967D2;\n",
              "      height: 32px;\n",
              "      padding: 0 0 0 0;\n",
              "      width: 32px;\n",
              "    }\n",
              "\n",
              "    .colab-df-convert:hover {\n",
              "      background-color: #E2EBFA;\n",
              "      box-shadow: 0px 1px 2px rgba(60, 64, 67, 0.3), 0px 1px 3px 1px rgba(60, 64, 67, 0.15);\n",
              "      fill: #174EA6;\n",
              "    }\n",
              "\n",
              "    [theme=dark] .colab-df-convert {\n",
              "      background-color: #3B4455;\n",
              "      fill: #D2E3FC;\n",
              "    }\n",
              "\n",
              "    [theme=dark] .colab-df-convert:hover {\n",
              "      background-color: #434B5C;\n",
              "      box-shadow: 0px 1px 3px 1px rgba(0, 0, 0, 0.15);\n",
              "      filter: drop-shadow(0px 1px 2px rgba(0, 0, 0, 0.3));\n",
              "      fill: #FFFFFF;\n",
              "    }\n",
              "  </style>\n",
              "\n",
              "      <script>\n",
              "        const buttonEl =\n",
              "          document.querySelector('#df-cfc0f810-9833-46e6-a4d0-034df2e6c679 button.colab-df-convert');\n",
              "        buttonEl.style.display =\n",
              "          google.colab.kernel.accessAllowed ? 'block' : 'none';\n",
              "\n",
              "        async function convertToInteractive(key) {\n",
              "          const element = document.querySelector('#df-cfc0f810-9833-46e6-a4d0-034df2e6c679');\n",
              "          const dataTable =\n",
              "            await google.colab.kernel.invokeFunction('convertToInteractive',\n",
              "                                                     [key], {});\n",
              "          if (!dataTable) return;\n",
              "\n",
              "          const docLinkHtml = 'Like what you see? Visit the ' +\n",
              "            '<a target=\"_blank\" href=https://colab.research.google.com/notebooks/data_table.ipynb>data table notebook</a>'\n",
              "            + ' to learn more about interactive tables.';\n",
              "          element.innerHTML = '';\n",
              "          dataTable['output_type'] = 'display_data';\n",
              "          await google.colab.output.renderOutput(dataTable, element);\n",
              "          const docLink = document.createElement('div');\n",
              "          docLink.innerHTML = docLinkHtml;\n",
              "          element.appendChild(docLink);\n",
              "        }\n",
              "      </script>\n",
              "    </div>\n",
              "  </div>\n"
            ]
          },
          "metadata": {},
          "execution_count": 2
        }
      ]
    },
    {
      "cell_type": "code",
      "source": [
        "# Turn the 2D LUT into a 3D numpy array with SZA, VZA and RAA as dimensions\n",
        "ac_lut = LUT\n",
        "ac_lut = ac_lut[~ac_lut.isin([np.nan]).any(1)].reset_index(drop=True)\n",
        "bands = ac_lut.Band.unique()\n",
        "\n",
        "# solar and viewing zenith angles\n",
        "my_SZAs = list(range(0, 90, 10))\n",
        "my_VZAs = list(range(0, 90, 10))\n",
        "\n",
        "# relative azimuth\n",
        "my_RAAs = list(range(0, 190, 10))\n",
        "\n",
        "ac_lut_array = {}\n",
        "\n",
        "for band in bands:\n",
        "    df_band = ac_lut[ac_lut.Band == band]\n",
        "    array_SZA = np.zeros((9,9,19))\n",
        "\n",
        "    # SZA loop\n",
        "    for i in range(9):\n",
        "        array_VZA = np.zeros((9,19))\n",
        "\n",
        "        # VZA loop\n",
        "        for ii in range(9):\n",
        "            array_RAA  = df_band.R_atm[(df_band.SZA==my_SZAs[i]) & (df_band.VZA==my_VZAs[ii])].values\n",
        "            array_VZA[ii,:] = array_RAA\n",
        "\n",
        "        array_SZA[i,:,:] = array_VZA\n",
        "    ac_lut_array[band] = array_SZA"
      ],
      "metadata": {
        "id": "BiAEQXwtr_Mi",
        "colab": {
          "base_uri": "https://localhost:8080/"
        },
        "outputId": "b731d9e9-779c-4f2b-85c2-474af8fbb129"
      },
      "execution_count": 3,
      "outputs": [
        {
          "output_type": "stream",
          "name": "stderr",
          "text": [
            "<ipython-input-3-1db2c248685c>:3: FutureWarning: In a future version of pandas all arguments of DataFrame.any and Series.any will be keyword-only.\n",
            "  ac_lut = ac_lut[~ac_lut.isin([np.nan]).any(1)].reset_index(drop=True)\n"
          ]
        }
      ]
    },
    {
      "cell_type": "markdown",
      "source": [
        "# Sample Data"
      ],
      "metadata": {
        "id": "8WferWBUdk7E"
      }
    },
    {
      "cell_type": "code",
      "source": [
        "# The output data from Tool2 - GEE LST8 Matchup Extraction - Level 1. This can be replaced by output data with user-defined locations and time.\n",
        "\n",
        "data = (\"\"\"index,B1,B10,B11,B2,B3,B4,B5,B6,B7,B8,B9,QA_PIXEL,QA_RADSAT,SAA,SZA,VAA,VZA,is_water,latitude,longitude\n",
        "0,0.6378574967384338,270.9753112792969,271.2830505371094,0.6193544864654541,0.6119202971458435,0.6139735579490662,0.6753119230270386,0.38771313428878784,0.26201555132865906,0.5960133671760559,0.01449086144566536,22280.0,0.0,14024.0,3213.0,-7289.0,455.0,0.0,39.474744,-86.898353\n",
        "1,0.11458732932806015,296.55841064453125,294.0486755371094,0.08930002897977829,0.06762196123600006,0.04144937917590141,0.3036518692970276,0.12595979869365692,0.0464886799454689,0.057929251343011856,0.0011576770339161158,21824.0,0.0,13016.0,2792.0,-8973.0,360.0,0.0,35.98,-78.83941\n",
        "2,0.11803778260946274,304.1044006347656,302.8207092285156,0.09954726696014404,0.07926090806722641,0.06544844806194305,0.07127939164638519,0.04090527817606926,0.03108357824385166,0.07438331097364426,0.0010863732313737273,21824.0,0.0,12697.0,2553.0,-8933.0,366.0,0.0,38.04947,-99.827\"\"\")\n",
        "\n",
        "df = pd.DataFrame([data.split(',') for data in data.split('\\n')[1:]], columns=[data for data in data.split('\\n')[0].split(',')])\n",
        "\n",
        "print(df)"
      ],
      "metadata": {
        "colab": {
          "base_uri": "https://localhost:8080/"
        },
        "id": "udLFf9IAmXxl",
        "outputId": "370dc361-ab98-4987-df8a-80280b2cbde7"
      },
      "execution_count": 4,
      "outputs": [
        {
          "output_type": "stream",
          "name": "stdout",
          "text": [
            "  index                   B1                 B10                B11  \\\n",
            "0     0   0.6378574967384338   270.9753112792969  271.2830505371094   \n",
            "1     1  0.11458732932806015  296.55841064453125  294.0486755371094   \n",
            "2     2  0.11803778260946274   304.1044006347656  302.8207092285156   \n",
            "\n",
            "                    B2                   B3                   B4  \\\n",
            "0   0.6193544864654541   0.6119202971458435   0.6139735579490662   \n",
            "1  0.08930002897977829  0.06762196123600006  0.04144937917590141   \n",
            "2  0.09954726696014404  0.07926090806722641  0.06544844806194305   \n",
            "\n",
            "                    B5                   B6                   B7  ...  \\\n",
            "0   0.6753119230270386  0.38771313428878784  0.26201555132865906  ...   \n",
            "1   0.3036518692970276  0.12595979869365692   0.0464886799454689  ...   \n",
            "2  0.07127939164638519  0.04090527817606926  0.03108357824385166  ...   \n",
            "\n",
            "                      B9 QA_PIXEL QA_RADSAT      SAA     SZA      VAA    VZA  \\\n",
            "0    0.01449086144566536  22280.0       0.0  14024.0  3213.0  -7289.0  455.0   \n",
            "1  0.0011576770339161158  21824.0       0.0  13016.0  2792.0  -8973.0  360.0   \n",
            "2  0.0010863732313737273  21824.0       0.0  12697.0  2553.0  -8933.0  366.0   \n",
            "\n",
            "  is_water   latitude   longitude  \n",
            "0      0.0  39.474744  -86.898353  \n",
            "1      0.0      35.98   -78.83941  \n",
            "2      0.0   38.04947     -99.827  \n",
            "\n",
            "[3 rows x 21 columns]\n"
          ]
        }
      ]
    },
    {
      "cell_type": "code",
      "source": [
        "# Calculate angles in degrees\n",
        "df['SZA_degree'] = df.SZA.astype(float) * 0.01\n",
        "df['SAA_degree'] = df.SAA.astype(float) * 0.01\n",
        "df['VZA_degree'] = df.VZA.astype(float) * 0.01\n",
        "df['VAA_degree'] = df.VAA.astype(float) * 0.01\n",
        "df['RAA_degree'] = (df.SAA_degree.astype(float)  - df.VAA_degree.astype(float)).abs()\n",
        "\n",
        "# If angle larger than 180, make it 360 - angle\n",
        "df.RAA_degree[df['RAA_degree'] > 180] = 360 - df.RAA_degree[df['RAA_degree'] > 180]\n",
        "\n",
        "print(df)"
      ],
      "metadata": {
        "id": "77s2e_A2mX_c",
        "colab": {
          "base_uri": "https://localhost:8080/"
        },
        "outputId": "5fccff63-0886-4022-ada7-5315245b9cad"
      },
      "execution_count": 5,
      "outputs": [
        {
          "output_type": "stream",
          "name": "stdout",
          "text": [
            "  index                   B1                 B10                B11  \\\n",
            "0     0   0.6378574967384338   270.9753112792969  271.2830505371094   \n",
            "1     1  0.11458732932806015  296.55841064453125  294.0486755371094   \n",
            "2     2  0.11803778260946274   304.1044006347656  302.8207092285156   \n",
            "\n",
            "                    B2                   B3                   B4  \\\n",
            "0   0.6193544864654541   0.6119202971458435   0.6139735579490662   \n",
            "1  0.08930002897977829  0.06762196123600006  0.04144937917590141   \n",
            "2  0.09954726696014404  0.07926090806722641  0.06544844806194305   \n",
            "\n",
            "                    B5                   B6                   B7  ...  \\\n",
            "0   0.6753119230270386  0.38771313428878784  0.26201555132865906  ...   \n",
            "1   0.3036518692970276  0.12595979869365692   0.0464886799454689  ...   \n",
            "2  0.07127939164638519  0.04090527817606926  0.03108357824385166  ...   \n",
            "\n",
            "       VAA    VZA is_water   latitude   longitude SZA_degree SAA_degree  \\\n",
            "0  -7289.0  455.0      0.0  39.474744  -86.898353      32.13     140.24   \n",
            "1  -8973.0  360.0      0.0      35.98   -78.83941      27.92     130.16   \n",
            "2  -8933.0  366.0      0.0   38.04947     -99.827      25.53     126.97   \n",
            "\n",
            "  VZA_degree VAA_degree RAA_degree  \n",
            "0       4.55     -72.89     146.87  \n",
            "1       3.60     -89.73     140.11  \n",
            "2       3.66     -89.33     143.70  \n",
            "\n",
            "[3 rows x 26 columns]\n"
          ]
        }
      ]
    },
    {
      "cell_type": "markdown",
      "source": [
        "# Interpolating Atmospheric Reflectance"
      ],
      "metadata": {
        "id": "LFXHJopSeC33"
      }
    },
    {
      "cell_type": "code",
      "source": [
        "R_atm = pd.DataFrame()\n",
        "\n",
        "for band in bands:\n",
        "\n",
        "    interp = RegularGridInterpolator((my_SZAs, my_VZAs, my_RAAs), ac_lut_array[band])\n",
        "    R_atm_band = interp( df[['SZA_degree', 'VZA_degree','RAA_degree']].values )\n",
        "    R_atm[band] = R_atm_band\n",
        "\n",
        "print(R_atm)"
      ],
      "metadata": {
        "id": "am4x8riMr_GT",
        "colab": {
          "base_uri": "https://localhost:8080/"
        },
        "outputId": "0a544b5f-35e4-4a81-abd0-2960233dfc7e"
      },
      "execution_count": 6,
      "outputs": [
        {
          "output_type": "stream",
          "name": "stdout",
          "text": [
            "         B1        B2        B3        B4     B5   B6   B7        B8     B9\n",
            "0  0.088741  0.064326  0.032206  0.017545  0.006  0.0  0.0  0.028661  0.001\n",
            "1  0.089272  0.064501  0.032280  0.017640  0.006  0.0  0.0  0.028640  0.001\n",
            "2  0.089259  0.064356  0.032268  0.017634  0.006  0.0  0.0  0.028634  0.001\n"
          ]
        }
      ]
    },
    {
      "cell_type": "markdown",
      "source": [
        "# Rayleigh Correction and Viewing Results"
      ],
      "metadata": {
        "id": "EWGKLnOBeG2I"
      }
    },
    {
      "cell_type": "code",
      "source": [
        "# Atmopsheric Correction: remove Rayleigh reflectance from TOA reflectance\n",
        "for band in bands:\n",
        "    df[band] = df[band].astype(float) - R_atm[band]\n",
        "print(df)"
      ],
      "metadata": {
        "id": "6G8S9ffYr_P4",
        "colab": {
          "base_uri": "https://localhost:8080/"
        },
        "outputId": "0de78074-62d3-4434-f867-025d2a8dd282"
      },
      "execution_count": 7,
      "outputs": [
        {
          "output_type": "stream",
          "name": "stdout",
          "text": [
            "  index        B1                 B10                B11        B2        B3  \\\n",
            "0     0  0.549116   270.9753112792969  271.2830505371094  0.555028  0.579714   \n",
            "1     1  0.025316  296.55841064453125  294.0486755371094  0.024799  0.035342   \n",
            "2     2  0.028779   304.1044006347656  302.8207092285156  0.035192  0.046993   \n",
            "\n",
            "         B4        B5        B6        B7  ...      VAA    VZA is_water  \\\n",
            "0  0.596429  0.669312  0.387713  0.262016  ...  -7289.0  455.0      0.0   \n",
            "1  0.023809  0.297652  0.125960  0.046489  ...  -8973.0  360.0      0.0   \n",
            "2  0.047814  0.065279  0.040905  0.031084  ...  -8933.0  366.0      0.0   \n",
            "\n",
            "    latitude   longitude SZA_degree SAA_degree VZA_degree VAA_degree  \\\n",
            "0  39.474744  -86.898353      32.13     140.24       4.55     -72.89   \n",
            "1      35.98   -78.83941      27.92     130.16       3.60     -89.73   \n",
            "2   38.04947     -99.827      25.53     126.97       3.66     -89.33   \n",
            "\n",
            "  RAA_degree  \n",
            "0     146.87  \n",
            "1     140.11  \n",
            "2     143.70  \n",
            "\n",
            "[3 rows x 26 columns]\n"
          ]
        }
      ]
    },
    {
      "cell_type": "code",
      "source": [],
      "metadata": {
        "id": "FbEm1hqdr_Ye"
      },
      "execution_count": null,
      "outputs": []
    },
    {
      "cell_type": "code",
      "source": [],
      "metadata": {
        "id": "X2BMmFhEmYCC"
      },
      "execution_count": null,
      "outputs": []
    }
  ]
}